{
 "cells": [
  {
   "cell_type": "code",
   "execution_count": 185,
   "id": "8ba637b6-b79d-44b7-8e5a-b8197c24fcac",
   "metadata": {},
   "outputs": [],
   "source": [
    "import pandas as pd\n",
    "import plotly.express as px\n",
    "from sqlalchemy import create_engine\n",
    "import math\n",
    "import numpy as np\n",
    "from pypfopt.efficient_frontier import EfficientFrontier \n",
    "import matplotlib.pyplot as plt\n",
    "from pypfopt import plotting "
   ]
  },
  {
   "cell_type": "code",
   "execution_count": 186,
   "id": "688177a2-50e9-4e45-a2f4-9257f3026f08",
   "metadata": {},
   "outputs": [],
   "source": [
    "# credentials to connect to db\n",
    "uid = \"user1116\"\n",
    "pwd = \"password1116\"\n",
    "port = '3306'\n",
    "hostname = \"hult-mysql.cmsi20r5frst.us-west-1.rds.amazonaws.com\"\n",
    "database = \"invest\""
   ]
  },
  {
   "cell_type": "code",
   "execution_count": 187,
   "id": "5c7ddee2-731d-40f8-914f-9201bce4222e",
   "metadata": {},
   "outputs": [],
   "source": [
    "# verify that you have pymysql installed through pip\n",
    "args = f\"mysql+pymysql://{uid}:{pwd}@{hostname}:{port}/{database}\"\n",
    "engine = create_engine(args)"
   ]
  },
  {
   "cell_type": "code",
   "execution_count": 188,
   "id": "0f4e4d57-7440-49b9-aec9-9e85230ca93e",
   "metadata": {},
   "outputs": [],
   "source": [
    "# get the accounts information for the client\n",
    "# Inputs: first_name, last_name, email\n",
    "# outputs of the query: all accounts\n",
    "def get_client_data(client_id):\n",
    "    get_client_acct_data = f'''SELECT client_id, hc.account_id, ad.acct_open_date, ticker, quantity, date\n",
    "                            FROM account_dim AS ad\n",
    "                                 INNER JOIN holdings_current hc on ad.account_id = hc.account_id\n",
    "                            WHERE ad.client_id = {client_id}\n",
    "                                  AND ad.acct_open_status = 1'''\n",
    "    df = pd.read_sql_query(get_client_acct_data, engine)\n",
    "    return df"
   ]
  },
  {
   "cell_type": "code",
   "execution_count": 189,
   "id": "60a0fd60-4e8b-4155-8701-fc392b2a64da",
   "metadata": {},
   "outputs": [],
   "source": [
    "# calculate the monthly returns\n",
    "def calc_monthly_returns(p1,p0):\n",
    "    mr = (p1/p0) - 1\n",
    "    return mr \n",
    "\n",
    "# get the data for the tickers that belong to the account\n",
    "def get_tickers_info_client(client_id):\n",
    "    tickers_info = f'''SELECT pdn.ticker\n",
    "                                 , security_name\n",
    "                                 , major_asset_class\n",
    "                                 , sec_type\n",
    "                                 , date\n",
    "                                 , value\n",
    "\n",
    "                                FROM pricing_daily_new pdn\n",
    "                                         INNER JOIN security_masterlist sm on pdn.ticker = sm.ticker\n",
    "                                WHERE pdn.ticker in (SELECT ticker\n",
    "                                                     FROM account_dim AS ad\n",
    "                                                              INNER JOIN holdings_current hc on ad.account_id = hc.account_id\n",
    "                                                     WHERE ad.client_id = {client_id}\n",
    "                                                       AND ad.acct_open_status = 1)\n",
    "                               AND pdn.date > '2019-01-02'\n",
    "                               AND pdn.price_type = 'Adjusted'\n",
    "                            ;'''\n",
    "    df = pd.read_sql_query(tickers_info, engine)\n",
    "    return df\n",
    "\n",
    "# get the data for the tickers \n",
    "def get_tickers_info_all_market():\n",
    "    tickers_info = f'''SELECT pdn.ticker\n",
    "                                 , security_name\n",
    "                                 , major_asset_class\n",
    "                                 , sec_type\n",
    "                                 , date\n",
    "                                 , value\n",
    "\n",
    "                                FROM pricing_daily_new pdn\n",
    "                                         INNER JOIN security_masterlist sm on pdn.ticker = sm.ticker\n",
    "                                WHERE pdn.ticker in (SELECT ticker\n",
    "                                                     FROM account_dim AS ad\n",
    "                                                              INNER JOIN holdings_current hc on ad.account_id = hc.account_id)\n",
    "                                AND pdn.date > '2019-01-02'\n",
    "                                AND pdn.price_type = 'Adjusted'\n",
    "                            ;'''\n",
    "    df = pd.read_sql_query(tickers_info, engine)\n",
    "    return df"
   ]
  },
  {
   "cell_type": "code",
   "execution_count": 190,
   "id": "2aad014c-da67-4156-b8d1-a1b49a42e5fe",
   "metadata": {},
   "outputs": [],
   "source": [
    "#calculate returns and covariance matrix\n",
    "def returns_covariance(all_market_tickets,tickers_df):    \n",
    "    new_asset_values = []\n",
    "    # {'alternatives':{{'ticker1':weight1}, }, ...}\n",
    "    asset_classes = ['alternatives','equity','fixed_income']\n",
    "    yearly_returns = []\n",
    "    for asset in asset_classes:\n",
    "        asset_data = tickers_df[tickers_df.asset_class_grouped == asset]\n",
    "        \n",
    "        if asset_data.shape[0] == 0:\n",
    "            asset_data = all_market_tickets[all_market_tickets.asset_class_grouped == asset]  \n",
    "            \n",
    "        asset_values = asset_data.groupby('date').mean().reset_index()\n",
    "        \n",
    "        # calculate the returns\n",
    "        min_date = asset_values.date.min()\n",
    "        max_date = asset_values.date.max()\n",
    "        p0 = asset_values[asset_values.date == min_date].value\n",
    "        p1 = asset_values[asset_values.date == max_date].value\n",
    "        assert len(p0) == 1\n",
    "        assert len(p1) == 1\n",
    "\n",
    "        returns = calc_monthly_returns(p1.values[0],p0.values[0])\n",
    "        if not np.isnan(returns):\n",
    "            yearly_returns.append(returns)\n",
    "        else:\n",
    "            yearly_returns.append(0)\n",
    "\n",
    "        new_asset_values.append(asset_values.value.values)\n",
    "\n",
    "    #calculate the covariance matrix\n",
    "    covariance_matrix = np.cov(new_asset_values)    \n",
    "\n",
    "    \n",
    "    return yearly_returns, covariance_matrix "
   ]
  },
  {
   "cell_type": "code",
   "execution_count": 191,
   "id": "d400ee76-7d4a-495b-95f4-1257070fa494",
   "metadata": {},
   "outputs": [],
   "source": [
    "client_id = 724\n",
    "tickers_info_all_market = get_tickers_info_all_market()\n",
    "tickers_info_client = get_tickers_info_client(client_id)\n",
    "client_data = get_client_data(client_id)\n",
    "\n",
    "# grouping\n",
    "asset_classes_grouped = {'commodities':'alternatives',\n",
    "                 'equty':'equity',\n",
    "                 'fixed income':'fixed_income',\n",
    "                 'fixed income corporate':'fixed_income'}\n",
    "\n",
    "# group major assets classes into 3\n",
    "tickers_info_all_market['asset_class_grouped'] = tickers_info_all_market.major_asset_class\n",
    "for key,value in asset_classes_grouped.items():\n",
    "    tickers_info_all_market.loc[tickers_info_all_market.asset_class_grouped == key,'asset_class_grouped'] = value\n",
    "    \n",
    "# group major assets classes into 3\n",
    "tickers_info_client['asset_class_grouped'] = tickers_info_client.major_asset_class\n",
    "for key,value in asset_classes_grouped.items():\n",
    "    tickers_info_client.loc[tickers_info_client.asset_class_grouped == key,'asset_class_grouped'] = value"
   ]
  },
  {
   "cell_type": "code",
   "execution_count": 192,
   "id": "557eb704-825b-4e3d-908b-390d482e5101",
   "metadata": {},
   "outputs": [],
   "source": [
    "yearly_returns, covariance_matrix = returns_covariance(tickers_info_all_market,tickers_info_client)"
   ]
  },
  {
   "cell_type": "markdown",
   "id": "d27f3f41-c585-4680-9d8c-8944c787e053",
   "metadata": {},
   "source": [
    "## Efficient frontier!"
   ]
  },
  {
   "cell_type": "code",
   "execution_count": 215,
   "id": "632d92d4-6835-497c-b177-c30799cb7ddf",
   "metadata": {},
   "outputs": [],
   "source": [
    "ef = EfficientFrontier(yearly_returns, covariance_matrix)"
   ]
  },
  {
   "cell_type": "code",
   "execution_count": 216,
   "id": "f262f7d9-3ec0-49c5-9dfa-017d2e06d79e",
   "metadata": {},
   "outputs": [
    {
     "data": {
      "image/png": "[encoded data removed]",
      "text/plain": [
       "<Figure size 432x288 with 1 Axes>"
      ]
     },
     "metadata": {
      "needs_background": "light"
     },
     "output_type": "display_data"
    }
   ],
   "source": [
    "# plotting results\n",
    "risk_range = np.linspace(0.10, 0.40, 100)\n",
    "fig, ax = plt.subplots()\n",
    "plotting.plot_efficient_frontier(ef, ax=ax)\n",
    "plt.savefig('effi_front.png')"
   ]
  },
  {
   "cell_type": "markdown",
   "id": "b3ca8db2-cfa9-49f2-8db8-e63773479dd2",
   "metadata": {},
   "source": [
    "## Optimal weights"
   ]
  },
  {
   "cell_type": "markdown",
   "id": "cba6b73a-be01-4279-8cb9-037e9a55a073",
   "metadata": {},
   "source": [
    "Historic risk for growth portfolios = 13.5%"
   ]
  },
  {
   "cell_type": "code",
   "execution_count": 230,
   "id": "f1252373-c5c8-4846-96a7-7671a548a651",
   "metadata": {},
   "outputs": [],
   "source": [
    "# the order of the weights 'alternatives','equity','fixed_income'\n",
    "ef2 = EfficientFrontier(yearly_returns, covariance_matrix)\n",
    "optimal_weights = ef2.efficient_risk(10)"
   ]
  },
  {
   "cell_type": "code",
   "execution_count": 231,
   "id": "ab27290b-e43d-4720-b983-241fc5141434",
   "metadata": {},
   "outputs": [],
   "source": [
    "labeled_optimal_weights = {'fixed_income':optimal_weights[0],'equity':optimal_weights[1],'alternatives':optimal_weights[2]}"
   ]
  },
  {
   "cell_type": "markdown",
   "id": "4f15188f-1819-4e06-a35e-a9086290a5fa",
   "metadata": {},
   "source": [
    "## Current weights"
   ]
  },
  {
   "cell_type": "code",
   "execution_count": 232,
   "id": "973073b9-40fa-457e-8101-1eea2fd0cbc4",
   "metadata": {},
   "outputs": [],
   "source": [
    "assets_classes = tickers_info_all_market[['asset_class_grouped','ticker']].drop_duplicates() \n",
    "portfolio_weights = pd.DataFrame({'asset':[],'current_quantity':[]})\n",
    "\n",
    "for asset_class in assets_classes.asset_class_grouped.unique():\n",
    "    tickers_filtered = assets_classes[assets_classes.asset_class_grouped == asset_class].ticker.values  \n",
    "    \n",
    "    # calculate the quantity for each asset class\n",
    "    quantity = client_data.loc[client_data.ticker.isin(tickers_filtered)].quantity.sum()\n",
    "    portfolio_weights_temp = pd.DataFrame({'asset':[asset_class],'current_quantity':[quantity]})\n",
    "    portfolio_weights = pd.concat([portfolio_weights,portfolio_weights_temp])"
   ]
  },
  {
   "cell_type": "code",
   "execution_count": 233,
   "id": "4afa4a6b-ce5f-4e8c-b9ed-bfc61c17a3c4",
   "metadata": {},
   "outputs": [
    {
     "data": {
      "text/html": [
       "<div>\n",
       "<style scoped>\n",
       "    .dataframe tbody tr th:only-of-type {\n",
       "        vertical-align: middle;\n",
       "    }\n",
       "\n",
       "    .dataframe tbody tr th {\n",
       "        vertical-align: top;\n",
       "    }\n",
       "\n",
       "    .dataframe thead th {\n",
       "        text-align: right;\n",
       "    }\n",
       "</style>\n",
       "<table border=\"1\" class=\"dataframe\">\n",
       "  <thead>\n",
       "    <tr style=\"text-align: right;\">\n",
       "      <th></th>\n",
       "      <th>asset</th>\n",
       "      <th>current_quantity</th>\n",
       "    </tr>\n",
       "  </thead>\n",
       "  <tbody>\n",
       "    <tr>\n",
       "      <th>0</th>\n",
       "      <td>alternatives</td>\n",
       "      <td>20937.0</td>\n",
       "    </tr>\n",
       "    <tr>\n",
       "      <th>0</th>\n",
       "      <td>equity</td>\n",
       "      <td>9853.0</td>\n",
       "    </tr>\n",
       "    <tr>\n",
       "      <th>0</th>\n",
       "      <td>fixed_income</td>\n",
       "      <td>7522.0</td>\n",
       "    </tr>\n",
       "  </tbody>\n",
       "</table>\n",
       "</div>"
      ],
      "text/plain": [
       "          asset  current_quantity\n",
       "0  alternatives           20937.0\n",
       "0        equity            9853.0\n",
       "0  fixed_income            7522.0"
      ]
     },
     "execution_count": 233,
     "metadata": {},
     "output_type": "execute_result"
    }
   ],
   "source": [
    "portfolio_weights"
   ]
  },
  {
   "cell_type": "markdown",
   "id": "8e1248f6-5573-4167-a3f2-26a7eb35010a",
   "metadata": {},
   "source": [
    "## Recommendation "
   ]
  },
  {
   "cell_type": "code",
   "execution_count": 234,
   "id": "644af0ac-de95-47d2-ad19-b7b7d73c8ff0",
   "metadata": {},
   "outputs": [],
   "source": [
    "portfolio_weights['weight'] = portfolio_weights['current_quantity']/portfolio_weights['current_quantity'].sum()*100\n",
    "portfolio_weights['optimal_weight'] = (portfolio_weights.asset.apply(lambda x: labeled_optimal_weights[x]))*100"
   ]
  },
  {
   "cell_type": "code",
   "execution_count": null,
   "id": "b967e354-7ae4-4d89-8be0-fda8770213a6",
   "metadata": {},
   "outputs": [],
   "source": []
  },
  {
   "cell_type": "code",
   "execution_count": 235,
   "id": "7cbf1d54-5411-4065-a903-d8b599097f19",
   "metadata": {},
   "outputs": [
    {
     "data": {
      "text/html": [
       "<div>\n",
       "<style scoped>\n",
       "    .dataframe tbody tr th:only-of-type {\n",
       "        vertical-align: middle;\n",
       "    }\n",
       "\n",
       "    .dataframe tbody tr th {\n",
       "        vertical-align: top;\n",
       "    }\n",
       "\n",
       "    .dataframe thead th {\n",
       "        text-align: right;\n",
       "    }\n",
       "</style>\n",
       "<table border=\"1\" class=\"dataframe\">\n",
       "  <thead>\n",
       "    <tr style=\"text-align: right;\">\n",
       "      <th></th>\n",
       "      <th>asset</th>\n",
       "      <th>current_quantity</th>\n",
       "      <th>weight</th>\n",
       "      <th>optimal_weight</th>\n",
       "      <th>difference</th>\n",
       "    </tr>\n",
       "  </thead>\n",
       "  <tbody>\n",
       "    <tr>\n",
       "      <th>0</th>\n",
       "      <td>alternatives</td>\n",
       "      <td>20937.0</td>\n",
       "      <td>54.648674</td>\n",
       "      <td>4.239145e-07</td>\n",
       "      <td>-54.648674</td>\n",
       "    </tr>\n",
       "    <tr>\n",
       "      <th>0</th>\n",
       "      <td>equity</td>\n",
       "      <td>9853.0</td>\n",
       "      <td>25.717791</td>\n",
       "      <td>8.510015e+01</td>\n",
       "      <td>59.382358</td>\n",
       "    </tr>\n",
       "    <tr>\n",
       "      <th>0</th>\n",
       "      <td>fixed_income</td>\n",
       "      <td>7522.0</td>\n",
       "      <td>19.633535</td>\n",
       "      <td>1.489985e+01</td>\n",
       "      <td>-4.733685</td>\n",
       "    </tr>\n",
       "  </tbody>\n",
       "</table>\n",
       "</div>"
      ],
      "text/plain": [
       "          asset  current_quantity     weight  optimal_weight  difference\n",
       "0  alternatives           20937.0  54.648674    4.239145e-07  -54.648674\n",
       "0        equity            9853.0  25.717791    8.510015e+01   59.382358\n",
       "0  fixed_income            7522.0  19.633535    1.489985e+01   -4.733685"
      ]
     },
     "execution_count": 235,
     "metadata": {},
     "output_type": "execute_result"
    }
   ],
   "source": [
    "portfolio_weights['difference'] = (portfolio_weights['optimal_weight'] - portfolio_weights['weight'])\n",
    "portfolio_weights"
   ]
  },
  {
   "cell_type": "code",
   "execution_count": 236,
   "id": "087824b7-c6f6-4f98-8c07-dac0c1ed2a2e",
   "metadata": {},
   "outputs": [
    {
     "data": {
      "text/html": [
       "<style type=\"text/css\">\n",
       "</style>\n",
       "<table id=\"T_cafeb\">\n",
       "  <thead>\n",
       "    <tr>\n",
       "      <th class=\"blank level0\" >&nbsp;</th>\n",
       "      <th id=\"T_cafeb_level0_col0\" class=\"col_heading level0 col0\" >asset</th>\n",
       "      <th id=\"T_cafeb_level0_col1\" class=\"col_heading level0 col1\" >current_quantity</th>\n",
       "      <th id=\"T_cafeb_level0_col2\" class=\"col_heading level0 col2\" >weight</th>\n",
       "      <th id=\"T_cafeb_level0_col3\" class=\"col_heading level0 col3\" >optimal_weight</th>\n",
       "      <th id=\"T_cafeb_level0_col4\" class=\"col_heading level0 col4\" >difference</th>\n",
       "    </tr>\n",
       "  </thead>\n",
       "  <tbody>\n",
       "    <tr>\n",
       "      <th id=\"T_cafeb_level0_row0\" class=\"row_heading level0 row0\" >0</th>\n",
       "      <td id=\"T_cafeb_row0_col0\" class=\"data row0 col0\" >alternatives</td>\n",
       "      <td id=\"T_cafeb_row0_col1\" class=\"data row0 col1\" >20937.000000</td>\n",
       "      <td id=\"T_cafeb_row0_col2\" class=\"data row0 col2\" >54.6487</td>\n",
       "      <td id=\"T_cafeb_row0_col3\" class=\"data row0 col3\" >0.0000</td>\n",
       "      <td id=\"T_cafeb_row0_col4\" class=\"data row0 col4\" >-54.6487</td>\n",
       "    </tr>\n",
       "    <tr>\n",
       "      <th id=\"T_cafeb_level0_row1\" class=\"row_heading level0 row1\" >0</th>\n",
       "      <td id=\"T_cafeb_row1_col0\" class=\"data row1 col0\" >equity</td>\n",
       "      <td id=\"T_cafeb_row1_col1\" class=\"data row1 col1\" >9853.000000</td>\n",
       "      <td id=\"T_cafeb_row1_col2\" class=\"data row1 col2\" >25.7178</td>\n",
       "      <td id=\"T_cafeb_row1_col3\" class=\"data row1 col3\" >85.1001</td>\n",
       "      <td id=\"T_cafeb_row1_col4\" class=\"data row1 col4\" >59.3824</td>\n",
       "    </tr>\n",
       "    <tr>\n",
       "      <th id=\"T_cafeb_level0_row2\" class=\"row_heading level0 row2\" >0</th>\n",
       "      <td id=\"T_cafeb_row2_col0\" class=\"data row2 col0\" >fixed_income</td>\n",
       "      <td id=\"T_cafeb_row2_col1\" class=\"data row2 col1\" >7522.000000</td>\n",
       "      <td id=\"T_cafeb_row2_col2\" class=\"data row2 col2\" >19.6335</td>\n",
       "      <td id=\"T_cafeb_row2_col3\" class=\"data row2 col3\" >14.8999</td>\n",
       "      <td id=\"T_cafeb_row2_col4\" class=\"data row2 col4\" >-4.7337</td>\n",
       "    </tr>\n",
       "  </tbody>\n",
       "</table>\n"
      ],
      "text/plain": [
       "<pandas.io.formats.style.Styler at 0x7f8588e48be0>"
      ]
     },
     "execution_count": 236,
     "metadata": {},
     "output_type": "execute_result"
    }
   ],
   "source": [
    "portfolio_weights.style.format({'optimal_weight':'{:.4f}','weight':'{:.4f}','difference':'{:.4f}'})"
   ]
  },
  {
   "cell_type": "code",
   "execution_count": 237,
   "id": "e5947402-c084-401a-9b4e-647b7f28ae3b",
   "metadata": {},
   "outputs": [
    {
     "data": {
      "text/html": [
       "<div>\n",
       "<style scoped>\n",
       "    .dataframe tbody tr th:only-of-type {\n",
       "        vertical-align: middle;\n",
       "    }\n",
       "\n",
       "    .dataframe tbody tr th {\n",
       "        vertical-align: top;\n",
       "    }\n",
       "\n",
       "    .dataframe thead th {\n",
       "        text-align: right;\n",
       "    }\n",
       "</style>\n",
       "<table border=\"1\" class=\"dataframe\">\n",
       "  <thead>\n",
       "    <tr style=\"text-align: right;\">\n",
       "      <th></th>\n",
       "      <th>ticker</th>\n",
       "      <th>security_name</th>\n",
       "      <th>major_asset_class</th>\n",
       "      <th>sec_type</th>\n",
       "      <th>date</th>\n",
       "      <th>value</th>\n",
       "      <th>asset_class_grouped</th>\n",
       "    </tr>\n",
       "  </thead>\n",
       "  <tbody>\n",
       "    <tr>\n",
       "      <th>0</th>\n",
       "      <td>BCI</td>\n",
       "      <td>abrdn Bloomberg All Commodity Strategy K-1 Fre...</td>\n",
       "      <td>commodities</td>\n",
       "      <td>etf</td>\n",
       "      <td>2022-09-09</td>\n",
       "      <td>27.420000</td>\n",
       "      <td>alternatives</td>\n",
       "    </tr>\n",
       "    <tr>\n",
       "      <th>1</th>\n",
       "      <td>BCI</td>\n",
       "      <td>abrdn Bloomberg All Commodity Strategy K-1 Fre...</td>\n",
       "      <td>commodities</td>\n",
       "      <td>etf</td>\n",
       "      <td>2022-09-08</td>\n",
       "      <td>26.879999</td>\n",
       "      <td>alternatives</td>\n",
       "    </tr>\n",
       "    <tr>\n",
       "      <th>2</th>\n",
       "      <td>BCI</td>\n",
       "      <td>abrdn Bloomberg All Commodity Strategy K-1 Fre...</td>\n",
       "      <td>commodities</td>\n",
       "      <td>etf</td>\n",
       "      <td>2022-09-07</td>\n",
       "      <td>26.780001</td>\n",
       "      <td>alternatives</td>\n",
       "    </tr>\n",
       "    <tr>\n",
       "      <th>3</th>\n",
       "      <td>BCI</td>\n",
       "      <td>abrdn Bloomberg All Commodity Strategy K-1 Fre...</td>\n",
       "      <td>commodities</td>\n",
       "      <td>etf</td>\n",
       "      <td>2022-09-06</td>\n",
       "      <td>27.110001</td>\n",
       "      <td>alternatives</td>\n",
       "    </tr>\n",
       "    <tr>\n",
       "      <th>4</th>\n",
       "      <td>BCI</td>\n",
       "      <td>abrdn Bloomberg All Commodity Strategy K-1 Fre...</td>\n",
       "      <td>commodities</td>\n",
       "      <td>etf</td>\n",
       "      <td>2022-09-02</td>\n",
       "      <td>27.629999</td>\n",
       "      <td>alternatives</td>\n",
       "    </tr>\n",
       "  </tbody>\n",
       "</table>\n",
       "</div>"
      ],
      "text/plain": [
       "  ticker                                      security_name major_asset_class  \\\n",
       "0    BCI  abrdn Bloomberg All Commodity Strategy K-1 Fre...       commodities   \n",
       "1    BCI  abrdn Bloomberg All Commodity Strategy K-1 Fre...       commodities   \n",
       "2    BCI  abrdn Bloomberg All Commodity Strategy K-1 Fre...       commodities   \n",
       "3    BCI  abrdn Bloomberg All Commodity Strategy K-1 Fre...       commodities   \n",
       "4    BCI  abrdn Bloomberg All Commodity Strategy K-1 Fre...       commodities   \n",
       "\n",
       "  sec_type        date      value asset_class_grouped  \n",
       "0      etf  2022-09-09  27.420000        alternatives  \n",
       "1      etf  2022-09-08  26.879999        alternatives  \n",
       "2      etf  2022-09-07  26.780001        alternatives  \n",
       "3      etf  2022-09-06  27.110001        alternatives  \n",
       "4      etf  2022-09-02  27.629999        alternatives  "
      ]
     },
     "execution_count": 237,
     "metadata": {},
     "output_type": "execute_result"
    }
   ],
   "source": [
    "tickers_info_all_market.head()"
   ]
  },
  {
   "cell_type": "code",
   "execution_count": 239,
   "id": "52cf6cd7-6bcd-445d-9183-b5e38e040d08",
   "metadata": {},
   "outputs": [
    {
     "name": "stdout",
     "output_type": "stream",
     "text": [
      "              date         TIP\n",
      "353949  2022-09-09  111.099998\n",
      "353950  2022-09-08  111.050003\n",
      "353951  2022-09-07  111.669998\n",
      "353952  2022-09-06  111.209999\n",
      "353953  2022-09-02  112.279999\n",
      "...            ...         ...\n",
      "354873  2019-01-09   96.656929\n",
      "354874  2019-01-08   96.542953\n",
      "354875  2019-01-07   96.464035\n",
      "354876  2019-01-04   96.525436\n",
      "354877  2019-01-03   96.727097\n",
      "\n",
      "[929 rows x 2 columns]\n",
      "              date         TIP         ECL\n",
      "353949  2022-09-09  111.099998  172.639999\n",
      "353950  2022-09-08  111.050003  170.919998\n",
      "353951  2022-09-07  111.669998  170.919998\n",
      "353952  2022-09-06  111.209999  163.029999\n",
      "353953  2022-09-02  112.279999  161.639999\n",
      "...            ...         ...         ...\n",
      "354873  2019-01-09   96.656929  143.632431\n",
      "354874  2019-01-08   96.542953  143.806244\n",
      "354875  2019-01-07   96.464035  142.077377\n",
      "354876  2019-01-04   96.525436  141.662048\n",
      "354877  2019-01-03   96.727097  136.707199\n",
      "\n",
      "[929 rows x 3 columns]\n",
      "              date         TIP         ECL        CNC\n",
      "353949  2022-09-09  111.099998  172.639999  91.989998\n",
      "353950  2022-09-08  111.050003  170.919998  91.260002\n",
      "353951  2022-09-07  111.669998  170.919998  89.330002\n",
      "353952  2022-09-06  111.209999  163.029999  88.330002\n",
      "353953  2022-09-02  112.279999  161.639999  90.050003\n",
      "...            ...         ...         ...        ...\n",
      "354873  2019-01-09   96.656929  143.632431  59.115002\n",
      "354874  2019-01-08   96.542953  143.806244  58.040001\n",
      "354875  2019-01-07   96.464035  142.077377  57.250000\n",
      "354876  2019-01-04   96.525436  141.662048  56.764999\n",
      "354877  2019-01-03   96.727097  136.707199  54.959999\n",
      "\n",
      "[929 rows x 4 columns]\n",
      "              date         TIP         ECL        CNC         SPG\n",
      "353949  2022-09-09  111.099998  172.639999  91.989998  103.769997\n",
      "353950  2022-09-08  111.050003  170.919998  91.260002  102.540001\n",
      "353951  2022-09-07  111.669998  170.919998  89.330002  101.709999\n",
      "353952  2022-09-06  111.209999  163.029999  88.330002   99.330940\n",
      "353953  2022-09-02  112.279999  161.639999  90.050003   98.829559\n",
      "...            ...         ...         ...        ...         ...\n",
      "354873  2019-01-09   96.656929  143.632431  59.115002  140.799118\n",
      "354874  2019-01-08   96.542953  143.806244  58.040001  140.604233\n",
      "354875  2019-01-07   96.464035  142.077377  57.250000  137.324203\n",
      "354876  2019-01-04   96.525436  141.662048  56.764999  135.895264\n",
      "354877  2019-01-03   96.727097  136.707199  54.959999  133.857361\n",
      "\n",
      "[929 rows x 5 columns]\n",
      "              date         TIP         ECL        CNC         SPG        CHD\n",
      "353949  2022-09-09  111.099998  172.639999  91.989998  103.769997  81.559998\n",
      "353950  2022-09-08  111.050003  170.919998  91.260002  102.540001  80.839996\n",
      "353951  2022-09-07  111.669998  170.919998  89.330002  101.709999  81.540001\n",
      "353952  2022-09-06  111.209999  163.029999  88.330002   99.330940  80.230003\n",
      "353953  2022-09-02  112.279999  161.639999  90.050003   98.829559  84.180000\n",
      "...            ...         ...         ...        ...         ...        ...\n",
      "354873  2019-01-09   96.656929  143.632431  59.115002  140.799118  62.938789\n",
      "354874  2019-01-08   96.542953  143.806244  58.040001  140.604233  62.843174\n",
      "354875  2019-01-07   96.464035  142.077377  57.250000  137.324203  62.996159\n",
      "354876  2019-01-04   96.525436  141.662048  56.764999  135.895264  62.212051\n",
      "354877  2019-01-03   96.727097  136.707199  54.959999  133.857361  61.475769\n",
      "\n",
      "[929 rows x 6 columns]\n",
      "              date         TIP         ECL        CNC         SPG        CHD  \\\n",
      "353949  2022-09-09  111.099998  172.639999  91.989998  103.769997  81.559998   \n",
      "353950  2022-09-08  111.050003  170.919998  91.260002  102.540001  80.839996   \n",
      "353951  2022-09-07  111.669998  170.919998  89.330002  101.709999  81.540001   \n",
      "353952  2022-09-06  111.209999  163.029999  88.330002   99.330940  80.230003   \n",
      "353953  2022-09-02  112.279999  161.639999  90.050003   98.829559  84.180000   \n",
      "...            ...         ...         ...        ...         ...        ...   \n",
      "354873  2019-01-09   96.656929  143.632431  59.115002  140.799118  62.938789   \n",
      "354874  2019-01-08   96.542953  143.806244  58.040001  140.604233  62.843174   \n",
      "354875  2019-01-07   96.464035  142.077377  57.250000  137.324203  62.996159   \n",
      "354876  2019-01-04   96.525436  141.662048  56.764999  135.895264  62.212051   \n",
      "354877  2019-01-03   96.727097  136.707199  54.959999  133.857361  61.475769   \n",
      "\n",
      "             GLTR  \n",
      "353949  82.639999  \n",
      "353950  81.879997  \n",
      "353951  81.580002  \n",
      "353952  80.110001  \n",
      "353953  80.610001  \n",
      "...           ...  \n",
      "354873  64.169998  \n",
      "354874  63.869999  \n",
      "354875  63.860001  \n",
      "354876  63.680000  \n",
      "354877  63.820000  \n",
      "\n",
      "[929 rows x 7 columns]\n"
     ]
    },
    {
     "data": {
      "text/html": [
       "<div>\n",
       "<style scoped>\n",
       "    .dataframe tbody tr th:only-of-type {\n",
       "        vertical-align: middle;\n",
       "    }\n",
       "\n",
       "    .dataframe tbody tr th {\n",
       "        vertical-align: top;\n",
       "    }\n",
       "\n",
       "    .dataframe thead th {\n",
       "        text-align: right;\n",
       "    }\n",
       "</style>\n",
       "<table border=\"1\" class=\"dataframe\">\n",
       "  <thead>\n",
       "    <tr style=\"text-align: right;\">\n",
       "      <th></th>\n",
       "      <th>date</th>\n",
       "      <th>TIP</th>\n",
       "      <th>ECL</th>\n",
       "      <th>CNC</th>\n",
       "      <th>SPG</th>\n",
       "      <th>CHD</th>\n",
       "      <th>GLTR</th>\n",
       "    </tr>\n",
       "  </thead>\n",
       "  <tbody>\n",
       "    <tr>\n",
       "      <th>353949</th>\n",
       "      <td>2022-09-09</td>\n",
       "      <td>111.099998</td>\n",
       "      <td>172.639999</td>\n",
       "      <td>91.989998</td>\n",
       "      <td>103.769997</td>\n",
       "      <td>81.559998</td>\n",
       "      <td>82.639999</td>\n",
       "    </tr>\n",
       "    <tr>\n",
       "      <th>353950</th>\n",
       "      <td>2022-09-08</td>\n",
       "      <td>111.050003</td>\n",
       "      <td>170.919998</td>\n",
       "      <td>91.260002</td>\n",
       "      <td>102.540001</td>\n",
       "      <td>80.839996</td>\n",
       "      <td>81.879997</td>\n",
       "    </tr>\n",
       "    <tr>\n",
       "      <th>353951</th>\n",
       "      <td>2022-09-07</td>\n",
       "      <td>111.669998</td>\n",
       "      <td>170.919998</td>\n",
       "      <td>89.330002</td>\n",
       "      <td>101.709999</td>\n",
       "      <td>81.540001</td>\n",
       "      <td>81.580002</td>\n",
       "    </tr>\n",
       "    <tr>\n",
       "      <th>353952</th>\n",
       "      <td>2022-09-06</td>\n",
       "      <td>111.209999</td>\n",
       "      <td>163.029999</td>\n",
       "      <td>88.330002</td>\n",
       "      <td>99.330940</td>\n",
       "      <td>80.230003</td>\n",
       "      <td>80.110001</td>\n",
       "    </tr>\n",
       "    <tr>\n",
       "      <th>353953</th>\n",
       "      <td>2022-09-02</td>\n",
       "      <td>112.279999</td>\n",
       "      <td>161.639999</td>\n",
       "      <td>90.050003</td>\n",
       "      <td>98.829559</td>\n",
       "      <td>84.180000</td>\n",
       "      <td>80.610001</td>\n",
       "    </tr>\n",
       "  </tbody>\n",
       "</table>\n",
       "</div>"
      ],
      "text/plain": [
       "              date         TIP         ECL        CNC         SPG        CHD  \\\n",
       "353949  2022-09-09  111.099998  172.639999  91.989998  103.769997  81.559998   \n",
       "353950  2022-09-08  111.050003  170.919998  91.260002  102.540001  80.839996   \n",
       "353951  2022-09-07  111.669998  170.919998  89.330002  101.709999  81.540001   \n",
       "353952  2022-09-06  111.209999  163.029999  88.330002   99.330940  80.230003   \n",
       "353953  2022-09-02  112.279999  161.639999  90.050003   98.829559  84.180000   \n",
       "\n",
       "             GLTR  \n",
       "353949  82.639999  \n",
       "353950  81.879997  \n",
       "353951  81.580002  \n",
       "353952  80.110001  \n",
       "353953  80.610001  "
      ]
     },
     "execution_count": 239,
     "metadata": {},
     "output_type": "execute_result"
    }
   ],
   "source": [
    "desired_tickers = ['TIP',\n",
    "'ECL',\n",
    "'CNC',\n",
    "'SPG',\n",
    "'CHD',\n",
    "'GLTR']\n",
    "final_df = tickers_info_all_market.loc[tickers_info_all_market.ticker == desired_tickers[0],['date']]\n",
    "for dticker in desired_tickers:\n",
    "    final_df[dticker] = tickers_info_all_market.loc[tickers_info_all_market.ticker == dticker,['value']].values\n",
    "    print(final_df)\n",
    "    # final_df[dticker] = not_final_df.values\n",
    "final_df.head()"
   ]
  },
  {
   "cell_type": "code",
   "execution_count": 240,
   "id": "9504dc87-9700-4c2e-88b6-7113bffe2a0d",
   "metadata": {},
   "outputs": [
    {
     "data": {
      "image/png": "[encoded data removed]",
      "text/plain": [
       "<Figure size 432x288 with 36 Axes>"
      ]
     },
     "metadata": {
      "needs_background": "light"
     },
     "output_type": "display_data"
    }
   ],
   "source": [
    "pd.plotting.scatter_matrix(final_df, alpha=0.2)\n",
    "plt.savefig('correlation.png')"
   ]
  },
  {
   "cell_type": "code",
   "execution_count": null,
   "id": "c7ced7b7-393f-4591-826a-bca79cc73cdb",
   "metadata": {},
   "outputs": [],
   "source": []
  }
 ],
 "metadata": {
  "kernelspec": {
   "display_name": "Python 3 (ipykernel)",
   "language": "python",
   "name": "python3"
  },
  "language_info": {
   "codemirror_mode": {
    "name": "ipython",
    "version": 3
   },
   "file_extension": ".py",
   "mimetype": "text/x-python",
   "name": "python",
   "nbconvert_exporter": "python",
   "pygments_lexer": "ipython3",
   "version": "3.9.12"
  }
 },
 "nbformat": 4,
 "nbformat_minor": 5
}
